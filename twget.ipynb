{
 "cells": [
  {
   "cell_type": "code",
   "execution_count": 4,
   "source": [
    "from selenium import webdriver\r\n",
    "import pandas as pd\r\n",
    "import numpy as np\r\n",
    "import signal\r\n",
    "from bs4 import BeautifulSoup\r\n",
    "import time\r\n",
    "import os"
   ],
   "outputs": [],
   "metadata": {}
  },
  {
   "cell_type": "code",
   "execution_count": 54,
   "source": [
    "ID = 1170\r\n",
    "code = 332\r\n",
    "date = '01/03/2018'\r\n",
    "\"\"\"2018-01-03\"\"\""
   ],
   "outputs": [
    {
     "output_type": "execute_result",
     "data": {
      "text/plain": [
       "'2018-01-03'"
      ]
     },
     "metadata": {},
     "execution_count": 54
    }
   ],
   "metadata": {}
  },
  {
   "cell_type": "code",
   "execution_count": 5,
   "source": [
    "os.getcwd()"
   ],
   "outputs": [
    {
     "output_type": "execute_result",
     "data": {
      "text/plain": [
       "'g:\\\\xasm\\\\FTDS_GitHub\\\\Webb-site'"
      ]
     },
     "metadata": {},
     "execution_count": 5
    }
   ],
   "metadata": {}
  },
  {
   "cell_type": "code",
   "execution_count": 9,
   "source": [
    "#driver = webdriver.Chrome(r'/Users/dhmp/Documents/twintget/chromedriver')\r\n",
    "driver = webdriver.Chrome(r'G:\\xasm\\FTDS_GitHub\\Webb-site\\chromedriver_win32\\chromedriver.exe')"
   ],
   "outputs": [],
   "metadata": {}
  },
  {
   "cell_type": "code",
   "execution_count": 11,
   "source": [
    "driver.get(f\"https://webb-site.com/ccass/chldchg.asp?i={ID}&d=2018-01-05&sort=cciddn\")\r\n",
    "print(BeautifulSoup(driver.page_source, \"html.parser\").h3.text[-10:])\r\n"
   ],
   "outputs": [
    {
     "output_type": "stream",
     "name": "stdout",
     "text": [
      "2018-08-03\n"
     ]
    }
   ],
   "metadata": {}
  },
  {
   "cell_type": "code",
   "execution_count": null,
   "source": [
    "end = '04/17/2019'\r\n",
    "for date in pd.bdate_range(start=date, end=end).strftime(\"%Y-%m-%d\"):\r\n",
    "    print(f\"https://webb-site.com/ccass/chldchg.asp?i={ID}&d={date}&sort=cciddn\")\r\n",
    "    time.sleep(1)\r\n",
    "\r\n",
    "    driver.get(f\"https://webb-site.com/ccass/chldchg.asp?i={ID}&d={date}&sort=cciddn\")\r\n",
    "    while True:\r\n",
    "        if BeautifulSoup(driver.page_source, \"html.parser\").h3 == None:\r\n",
    "            print(f\"robot block\")\r\n",
    "#            break\r\n",
    "            if input('continue?(y/n)') == 'n':\r\n",
    "                print(date)\r\n",
    "                continue\r\n",
    "        break \r\n",
    "\r\n",
    "    data = pd.read_html(driver.page_source)\r\n",
    "    df = data[1].drop(['Row', 'Unnamed: 8'], axis=1)\r\n",
    "    df.to_csv(f'{data[0].Code[0]}/{data[0].Code[0]}_{BeautifulSoup(driver.page_source, \"html.parser\").h3.text[-10:]}.csv',index = False)\r\n",
    "if date == end:\r\n",
    "    print(f'Success!, up to date:{date}')\r\n",
    "    break"
   ],
   "outputs": [],
   "metadata": {}
  },
  {
   "cell_type": "markdown",
   "source": [
    "## Refine list of date for scraping"
   ],
   "metadata": {}
  },
  {
   "cell_type": "code",
   "execution_count": 21,
   "source": [
    "date_df = pd.read_csv('332/pricesd1170.csv', usecols=['settleDate','vol'], na_filter=False)\r\n",
    "date_df.head()"
   ],
   "outputs": [
    {
     "output_type": "execute_result",
     "data": {
      "text/plain": [
       "   settleDate     vol\n",
       "0  2021-09-07   24000\n",
       "1  2021-09-06  136000\n",
       "2  2021-09-03       0\n",
       "3  2021-09-02  512000\n",
       "4  2021-09-01  660000"
      ],
      "text/html": [
       "<div>\n",
       "<style scoped>\n",
       "    .dataframe tbody tr th:only-of-type {\n",
       "        vertical-align: middle;\n",
       "    }\n",
       "\n",
       "    .dataframe tbody tr th {\n",
       "        vertical-align: top;\n",
       "    }\n",
       "\n",
       "    .dataframe thead th {\n",
       "        text-align: right;\n",
       "    }\n",
       "</style>\n",
       "<table border=\"1\" class=\"dataframe\">\n",
       "  <thead>\n",
       "    <tr style=\"text-align: right;\">\n",
       "      <th></th>\n",
       "      <th>settleDate</th>\n",
       "      <th>vol</th>\n",
       "    </tr>\n",
       "  </thead>\n",
       "  <tbody>\n",
       "    <tr>\n",
       "      <th>0</th>\n",
       "      <td>2021-09-07</td>\n",
       "      <td>24000</td>\n",
       "    </tr>\n",
       "    <tr>\n",
       "      <th>1</th>\n",
       "      <td>2021-09-06</td>\n",
       "      <td>136000</td>\n",
       "    </tr>\n",
       "    <tr>\n",
       "      <th>2</th>\n",
       "      <td>2021-09-03</td>\n",
       "      <td>0</td>\n",
       "    </tr>\n",
       "    <tr>\n",
       "      <th>3</th>\n",
       "      <td>2021-09-02</td>\n",
       "      <td>512000</td>\n",
       "    </tr>\n",
       "    <tr>\n",
       "      <th>4</th>\n",
       "      <td>2021-09-01</td>\n",
       "      <td>660000</td>\n",
       "    </tr>\n",
       "  </tbody>\n",
       "</table>\n",
       "</div>"
      ]
     },
     "metadata": {},
     "execution_count": 21
    }
   ],
   "metadata": {}
  },
  {
   "cell_type": "markdown",
   "source": [
    "## Rerun below if terminated accidentially"
   ],
   "metadata": {}
  },
  {
   "cell_type": "code",
   "execution_count": 78,
   "source": [
    "date_list = date_df[(date_df['vol'] > 750000) & (date_df['settleDate'] > '2010-01-01')]['settleDate'].to_list()\r\n",
    "print(len(date_list))\r\n",
    "existed_date = os.listdir(str(code))\r\n",
    "existed_date = [i.replace('.csv','').replace(f'{code}_','') for i in existed_date ]\r\n",
    "date_list = [i for i in date_list if (i not in existed_date) and (i < '2017-08-01')]\r\n",
    "print(len(date_list))"
   ],
   "outputs": [
    {
     "output_type": "stream",
     "name": "stdout",
     "text": [
      "1615\n",
      "0\n"
     ]
    }
   ],
   "metadata": {}
  },
  {
   "cell_type": "code",
   "execution_count": 83,
   "source": [
    "existed_date[-3:]"
   ],
   "outputs": [
    {
     "output_type": "execute_result",
     "data": {
      "text/plain": [
       "['2021-08-25', '2021-08-26', 'pricesd1170']"
      ]
     },
     "metadata": {},
     "execution_count": 83
    }
   ],
   "metadata": {}
  },
  {
   "cell_type": "code",
   "execution_count": 80,
   "source": [
    "'2020-01-21' in existed_date"
   ],
   "outputs": [
    {
     "output_type": "execute_result",
     "data": {
      "text/plain": [
       "False"
      ]
     },
     "metadata": {},
     "execution_count": 80
    }
   ],
   "metadata": {}
  },
  {
   "cell_type": "code",
   "execution_count": null,
   "source": [
    "for date in date_list:\r\n",
    "    print(f\"https://webb-site.com/ccass/chldchg.asp?i={ID}&d={date}&sort=cciddn\")\r\n",
    "    time.sleep(0.1)\r\n",
    "\r\n",
    "    driver.get(f\"https://webb-site.com/ccass/chldchg.asp?i={ID}&d={date}&sort=cciddn\")\r\n",
    "    while True:\r\n",
    "        if BeautifulSoup(driver.page_source, \"html.parser\").h3 == None:\r\n",
    "            print(f\"robot block\")\r\n",
    "#            break\r\n",
    "            if input('continue?(y/n)') == 'n':\r\n",
    "                print(date)\r\n",
    "                continue\r\n",
    "        break \r\n",
    "\r\n",
    "    data = pd.read_html(driver.page_source)\r\n",
    "    df = data[1].drop(['Row', 'Unnamed: 8'], axis=1)\r\n",
    "    df.to_csv(f'{data[0].Code[0]}/{data[0].Code[0]}_{BeautifulSoup(driver.page_source, \"html.parser\").h3.text[-10:]}.csv',index = False)\r\n",
    "if date == end:\r\n",
    "    print(f'Success!, up to date:{date}')\r\n",
    "    break"
   ],
   "outputs": [],
   "metadata": {}
  },
  {
   "cell_type": "code",
   "execution_count": null,
   "source": [],
   "outputs": [],
   "metadata": {}
  }
 ],
 "metadata": {
  "kernelspec": {
   "name": "python3",
   "display_name": "Python 3.8.8 64-bit"
  },
  "language_info": {
   "codemirror_mode": {
    "name": "ipython",
    "version": 3
   },
   "file_extension": ".py",
   "mimetype": "text/x-python",
   "name": "python",
   "nbconvert_exporter": "python",
   "pygments_lexer": "ipython3",
   "version": "3.8.8"
  },
  "orig_nbformat": 2,
  "interpreter": {
   "hash": "3410afedb74081d81603511028deadddc25ba0f01c14e0cb891e2c2473f81884"
  }
 },
 "nbformat": 4,
 "nbformat_minor": 2
}